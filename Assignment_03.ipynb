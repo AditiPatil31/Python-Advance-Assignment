{
 "cells": [
  {
   "cell_type": "markdown",
   "metadata": {},
   "source": [
    "**1. What is the concept of an abstract superclass?**"
   ]
  },
  {
   "cell_type": "markdown",
   "metadata": {},
   "source": [
    "An abstract class can be considered as a blueprint for other classes. It allows you to create a set of methods that must be created within any child classes built from the abstract class. A class which contains one or more abstract methods is called an abstract class. "
   ]
  },
  {
   "cell_type": "code",
   "execution_count": 1,
   "metadata": {},
   "outputs": [
    {
     "name": "stdout",
     "output_type": "stream",
     "text": [
      "True\n",
      "True\n"
     ]
    }
   ],
   "source": [
    "import abc\n",
    " \n",
    "class parent:      \n",
    "    def geeks(self):\n",
    "        pass\n",
    " \n",
    "class child(parent):\n",
    "    def geeks(self):\n",
    "        print(\"child class\")\n",
    " \n",
    "\n",
    "print( issubclass(child, parent))\n",
    "print( isinstance(child(), parent))"
   ]
  },
  {
   "cell_type": "markdown",
   "metadata": {},
   "source": [
    "**2. What happens when a class statement's top level contains a basic assignment statement?**"
   ]
  },
  {
   "cell_type": "markdown",
   "metadata": {},
   "source": [
    " When a Class statement's top level contains a basic assignment statement, its usually treated as a class attribute or class level variable.\n",
    "\n",
    "where as assignment statements inside methods are treated as instance attributes or local attributes.\n",
    "\n",
    "When an instance of a class is created a single copy of class attributes is maintained and shared to all instances of class. where as each instance object maintains its own copy of instance variables.\n",
    "\n"
   ]
  },
  {
   "cell_type": "code",
   "execution_count": 2,
   "metadata": {},
   "outputs": [],
   "source": [
    "class Person:\n",
    "    species = 'Homesapiens' # class attribute\n",
    "    def __init__(self,name,gender):\n",
    "        self.name = name # instance attributes\n",
    "        self.gender = gender"
   ]
  },
  {
   "cell_type": "markdown",
   "metadata": {},
   "source": [
    "**3. Why does a class need to manually call a superclass's __init__ method?**"
   ]
  },
  {
   "cell_type": "markdown",
   "metadata": {},
   "source": [
    "The main reason for always calling base class _init__ is that base class may typically create member variable and initialize them to defaults. So if you don't call base class init, none of that code would be executed and you would end up with base class that has no member variables."
   ]
  },
  {
   "cell_type": "code",
   "execution_count": 3,
   "metadata": {},
   "outputs": [
    {
     "name": "stdout",
     "output_type": "stream",
     "text": [
      "Creating Derived1...\n",
      "derived1 init\n",
      "Creating Derived2...\n",
      "base init\n",
      "derived2 init\n"
     ]
    }
   ],
   "source": [
    "class Base:\n",
    "  def __init__(self):\n",
    "    print('base init')\n",
    "\n",
    "class Derived1(Base):\n",
    "  def __init__(self):\n",
    "    print('derived1 init')\n",
    "\n",
    "class Derived2(Base):\n",
    "  def __init__(self):\n",
    "    super(Derived2, self).__init__()\n",
    "    print('derived2 init')\n",
    "\n",
    "print('Creating Derived1...')\n",
    "d1 = Derived1()\n",
    "print('Creating Derived2...')\n",
    "d2 = Derived2()"
   ]
  },
  {
   "cell_type": "markdown",
   "metadata": {},
   "source": [
    "**4. How can you augment, instead of completely replacing, an inherited method?**"
   ]
  },
  {
   "cell_type": "markdown",
   "metadata": {},
   "source": [
    "super() method can be used to augment, instead of completely replacing, an inherited method."
   ]
  },
  {
   "cell_type": "code",
   "execution_count": 5,
   "metadata": {},
   "outputs": [
    {
     "name": "stdout",
     "output_type": "stream",
     "text": [
      "The ID is: 103\n",
      "The Name is: Suraj kr gupta\n",
      "The Emails is: KKK@gmails\n"
     ]
    }
   ],
   "source": [
    "class Emp():\n",
    "    def __init__(self, id, name):\n",
    "        self.id = id\n",
    "        self.name = name\n",
    "        \n",
    "\n",
    "class Freelance(Emp):\n",
    "    def __init__(self, id, name, Emails):\n",
    "        super().__init__(id, name)\n",
    "        self.Emails = Emails\n",
    " \n",
    "Emp_1 = Freelance(103, \"Suraj kr gupta\",  \"KKK@gmails\")\n",
    "print('The ID is:', Emp_1.id)\n",
    "print('The Name is:', Emp_1.name)\n",
    "print('The Emails is:', Emp_1.Emails)"
   ]
  },
  {
   "cell_type": "markdown",
   "metadata": {},
   "source": [
    "**5. How is the local scope of a class different from that of a function?**"
   ]
  },
  {
   "cell_type": "markdown",
   "metadata": {},
   "source": [
    "**function scope :** Variables that are declared inside a function are called local variables and in the function scope. Local variables are accessible anywhere inside the function.and exists for as long as the function is existing."
   ]
  },
  {
   "cell_type": "markdown",
   "metadata": {},
   "source": [
    "Similary a variable inside of a class also has a local variable scope. Variables which are defined in the class body (but outside all methods) are called as class level variables or class attributes. they can be referenced by there bare names within the same scope, but they can also be accessed from outside this scope if we use the attribute access operator (.). on a class or an instance of the class."
   ]
  },
  {
   "cell_type": "code",
   "execution_count": 7,
   "metadata": {},
   "outputs": [
    {
     "name": "stdout",
     "output_type": "stream",
     "text": [
      "Hello world\n",
      "HomeSapines\n",
      "HomeSapines\n"
     ]
    }
   ],
   "source": [
    "def welcome(string):\n",
    "    string = string\n",
    "    print(f'{string}')\n",
    "welcome('Hello world')\n",
    "\n",
    "class Person:\n",
    "    species = \"HomeSapines\"\n",
    "    def __init__(self):\n",
    "        pass\n",
    "print(Person.species) \n",
    "Male = Person()\n",
    "print(Male.species) "
   ]
  }
 ],
 "metadata": {
  "kernelspec": {
   "display_name": "Python 3",
   "language": "python",
   "name": "python3"
  },
  "language_info": {
   "codemirror_mode": {
    "name": "ipython",
    "version": 3
   },
   "file_extension": ".py",
   "mimetype": "text/x-python",
   "name": "python",
   "nbconvert_exporter": "python",
   "pygments_lexer": "ipython3",
   "version": "3.6.5"
  }
 },
 "nbformat": 4,
 "nbformat_minor": 2
}
