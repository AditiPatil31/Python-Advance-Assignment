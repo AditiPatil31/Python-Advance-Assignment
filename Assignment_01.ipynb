{
 "cells": [
  {
   "cell_type": "markdown",
   "metadata": {},
   "source": [
    "**Q1. What is the purpose of Python's OOP?**"
   ]
  },
  {
   "cell_type": "markdown",
   "metadata": {},
   "source": [
    "Object-oriented programming is a programming paradigm that provides a means of structuring programs so that properties and behaviors are bundled into individual objects\n",
    "\n",
    "In Python, object-oriented Programming (OOPs) uses objects and classes in programming.\n",
    "\n",
    "It aims to implement real-world entities like inheritance, polymorphisms, encapsulation, etc. in the programming.\n",
    "\n",
    "The main concept of OOPs is to bind the data and the functions that work on that together as a single unit so that no other part of the code can access this data.\n",
    "\n",
    "It comes up with the following advantages:\n",
    "\n",
    "It helps to divide our over all program into different small segments and thus making it solving easy with the use of objects\n",
    "Helps in easy maintenance and modification of existing program\n",
    "Multiple instances of an object can be made."
   ]
  },
  {
   "cell_type": "markdown",
   "metadata": {},
   "source": [
    "**Q2. Where does an inheritance search look for an attribute?**"
   ]
  },
  {
   "cell_type": "markdown",
   "metadata": {},
   "source": [
    "An inheritance search looks for an attribute first in the instance object, then in the class the instance was created from, then in all higher superclasses, progressing from left to right (by default). The search stops at the first place the attribute is found."
   ]
  },
  {
   "cell_type": "markdown",
   "metadata": {},
   "source": [
    "**Q3. How do you distinguish between a class object and an instance object?**"
   ]
  },
  {
   "cell_type": "markdown",
   "metadata": {},
   "source": [
    "1.Class is a blueprint or template from which objects are created.Object is an instance of a class.\n",
    "\n",
    "2.Class is declared once.\tObject is created many times as per requirement.\n",
    "\n",
    "3.Class doesn't allocated memory when it is created.Object allocates memory when it is created.\n",
    "\n",
    "4.Class is a group of similar objects.Object is a real world entity such as pen, laptop."
   ]
  },
  {
   "cell_type": "markdown",
   "metadata": {},
   "source": [
    "**Q4. What makes the first argument in a class’s method function special?**"
   ]
  },
  {
   "cell_type": "markdown",
   "metadata": {},
   "source": [
    "Types of Methods in Python:\n",
    "\n",
    "**Instance methods** - It is the most common type of methods used in a Python class having default parameter **self**.\n",
    "\n",
    "<br>\n",
    "**Class methods**- Class methods also take one default parameter- cls, which points to the class.In order to define a class method, you have to specify that it is a class method with the help of the @classmethod decorator\n",
    "\n",
    "<br>\n",
    "**Static methods** -  They are used for creating utility functions.\n"
   ]
  },
  {
   "cell_type": "markdown",
   "metadata": {},
   "source": [
    "**Q5. What is the purpose of the __init__ method?**"
   ]
  },
  {
   "cell_type": "markdown",
   "metadata": {},
   "source": [
    "\"__init__\" is a reseved method in python classes. It is called as a constructor in object oriented terminology. This method is called when an object is created from a class and it allows the class to initialize the attributes of the class."
   ]
  },
  {
   "cell_type": "markdown",
   "metadata": {},
   "source": [
    "**Q6. What is the process for creating a class instance?**"
   ]
  },
  {
   "cell_type": "markdown",
   "metadata": {},
   "source": [
    "To create instances of a class, you call the class using class name and pass in whatever arguments its __init__ method accepts."
   ]
  },
  {
   "cell_type": "markdown",
   "metadata": {},
   "source": [
    "p1 = MyClass() --> class instance"
   ]
  },
  {
   "cell_type": "markdown",
   "metadata": {},
   "source": [
    "**Q7. What is the process for creating a class?**"
   ]
  },
  {
   "cell_type": "markdown",
   "metadata": {},
   "source": [
    "In Python, a class can be created by using the keyword class, followed by the class name. The syntax to create a class is given below."
   ]
  },
  {
   "cell_type": "code",
   "execution_count": 1,
   "metadata": {},
   "outputs": [],
   "source": [
    "class MyClass:\n",
    "  x = 5"
   ]
  },
  {
   "cell_type": "markdown",
   "metadata": {},
   "source": [
    "**Q8. How would you define the superclasses of a class?**"
   ]
  },
  {
   "cell_type": "markdown",
   "metadata": {},
   "source": [
    "uperclass/Parent class is given as a arugment to the child class\n",
    "\n",
    "**Example:** class Employee(Person): Here child class Employee inherits attributes and methofs from Superclass/Parent Person."
   ]
  }
 ],
 "metadata": {
  "kernelspec": {
   "display_name": "Python 3",
   "language": "python",
   "name": "python3"
  },
  "language_info": {
   "codemirror_mode": {
    "name": "ipython",
    "version": 3
   },
   "file_extension": ".py",
   "mimetype": "text/x-python",
   "name": "python",
   "nbconvert_exporter": "python",
   "pygments_lexer": "ipython3",
   "version": "3.6.5"
  }
 },
 "nbformat": 4,
 "nbformat_minor": 2
}
